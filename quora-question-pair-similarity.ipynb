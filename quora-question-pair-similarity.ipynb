{
 "cells": [
  {
   "cell_type": "markdown",
   "metadata": {},
   "source": [
    "## Introduction"
   ]
  },
  {
   "cell_type": "markdown",
   "metadata": {},
   "source": [
    "<b>Source</b>\n",
    "- https://www.kaggle.com/c/quora-question-pairs\n",
    "- Applied AI Course\n",
    "\n",
    "\n",
    "<b>Problem Statement</b>\n",
    "- Identify which questions asked on Quora are duplicates of questions that have already been asked. \n",
    "- This could be useful to instantly provide answers to questions that have already been answered. \n",
    "- We are tasked with predicting whether a pair of questions are duplicates or not. \n",
    "\n",
    "<b>Business Objectives</b>\n",
    "- The cost of a mis-classification can be very high. (FP are more critical than FN)\n",
    "- You would want a probability of a pair of questions to be duplicates so that you can choose any threshold of choice.\n",
    "- No strict latency concerns.\n",
    "- Interpretability is partially important.\n",
    "\n",
    "<b>Columns Description</b>\n",
    "- id: normal index column of data\n",
    "- qid1: ID for question 1\n",
    "- qid2: ID for question 2\n",
    "- question1: Actual text of question 1\n",
    "- question2: Actual text of question 2\n",
    "- is_duplicate: Label of whether two questions are duplicate or not. (0 = No, 1 = Yes)"
   ]
  },
  {
   "cell_type": "markdown",
   "metadata": {},
   "source": [
    "## Imported Libraries"
   ]
  },
  {
   "cell_type": "code",
   "execution_count": 26,
   "metadata": {
    "ExecuteTime": {
     "end_time": "2019-10-11T13:13:46.433158Z",
     "start_time": "2019-10-11T13:13:46.427673Z"
    }
   },
   "outputs": [],
   "source": [
    "import pandas as pd\n",
    "import numpy as np\n",
    "import seaborn as sns\n",
    "import matplotlib.pyplot as plt\n",
    "\n",
    "%matplotlib inline"
   ]
  },
  {
   "cell_type": "markdown",
   "metadata": {},
   "source": [
    "## Loading Data"
   ]
  },
  {
   "cell_type": "code",
   "execution_count": 27,
   "metadata": {
    "ExecuteTime": {
     "end_time": "2019-10-11T13:13:47.694569Z",
     "start_time": "2019-10-11T13:13:46.436156Z"
    }
   },
   "outputs": [
    {
     "data": {
      "text/html": [
       "<div>\n",
       "<style scoped>\n",
       "    .dataframe tbody tr th:only-of-type {\n",
       "        vertical-align: middle;\n",
       "    }\n",
       "\n",
       "    .dataframe tbody tr th {\n",
       "        vertical-align: top;\n",
       "    }\n",
       "\n",
       "    .dataframe thead th {\n",
       "        text-align: right;\n",
       "    }\n",
       "</style>\n",
       "<table border=\"1\" class=\"dataframe\">\n",
       "  <thead>\n",
       "    <tr style=\"text-align: right;\">\n",
       "      <th></th>\n",
       "      <th>id</th>\n",
       "      <th>qid1</th>\n",
       "      <th>qid2</th>\n",
       "      <th>question1</th>\n",
       "      <th>question2</th>\n",
       "      <th>is_duplicate</th>\n",
       "    </tr>\n",
       "  </thead>\n",
       "  <tbody>\n",
       "    <tr>\n",
       "      <th>0</th>\n",
       "      <td>0</td>\n",
       "      <td>1</td>\n",
       "      <td>2</td>\n",
       "      <td>What is the step by step guide to invest in sh...</td>\n",
       "      <td>What is the step by step guide to invest in sh...</td>\n",
       "      <td>0</td>\n",
       "    </tr>\n",
       "    <tr>\n",
       "      <th>1</th>\n",
       "      <td>1</td>\n",
       "      <td>3</td>\n",
       "      <td>4</td>\n",
       "      <td>What is the story of Kohinoor (Koh-i-Noor) Dia...</td>\n",
       "      <td>What would happen if the Indian government sto...</td>\n",
       "      <td>0</td>\n",
       "    </tr>\n",
       "    <tr>\n",
       "      <th>2</th>\n",
       "      <td>2</td>\n",
       "      <td>5</td>\n",
       "      <td>6</td>\n",
       "      <td>How can I increase the speed of my internet co...</td>\n",
       "      <td>How can Internet speed be increased by hacking...</td>\n",
       "      <td>0</td>\n",
       "    </tr>\n",
       "    <tr>\n",
       "      <th>3</th>\n",
       "      <td>3</td>\n",
       "      <td>7</td>\n",
       "      <td>8</td>\n",
       "      <td>Why am I mentally very lonely? How can I solve...</td>\n",
       "      <td>Find the remainder when [math]23^{24}[/math] i...</td>\n",
       "      <td>0</td>\n",
       "    </tr>\n",
       "    <tr>\n",
       "      <th>4</th>\n",
       "      <td>4</td>\n",
       "      <td>9</td>\n",
       "      <td>10</td>\n",
       "      <td>Which one dissolve in water quikly sugar, salt...</td>\n",
       "      <td>Which fish would survive in salt water?</td>\n",
       "      <td>0</td>\n",
       "    </tr>\n",
       "  </tbody>\n",
       "</table>\n",
       "</div>"
      ],
      "text/plain": [
       "   id  qid1  qid2                                          question1  \\\n",
       "0   0     1     2  What is the step by step guide to invest in sh...   \n",
       "1   1     3     4  What is the story of Kohinoor (Koh-i-Noor) Dia...   \n",
       "2   2     5     6  How can I increase the speed of my internet co...   \n",
       "3   3     7     8  Why am I mentally very lonely? How can I solve...   \n",
       "4   4     9    10  Which one dissolve in water quikly sugar, salt...   \n",
       "\n",
       "                                           question2  is_duplicate  \n",
       "0  What is the step by step guide to invest in sh...             0  \n",
       "1  What would happen if the Indian government sto...             0  \n",
       "2  How can Internet speed be increased by hacking...             0  \n",
       "3  Find the remainder when [math]23^{24}[/math] i...             0  \n",
       "4            Which fish would survive in salt water?             0  "
      ]
     },
     "execution_count": 27,
     "metadata": {},
     "output_type": "execute_result"
    }
   ],
   "source": [
    "data = pd.read_csv('data/train.csv')\n",
    "data.head()"
   ]
  },
  {
   "cell_type": "code",
   "execution_count": 28,
   "metadata": {
    "ExecuteTime": {
     "end_time": "2019-10-11T13:13:47.702401Z",
     "start_time": "2019-10-11T13:13:47.697301Z"
    }
   },
   "outputs": [
    {
     "name": "stdout",
     "output_type": "stream",
     "text": [
      "Number of data points are : 404290\n"
     ]
    }
   ],
   "source": [
    "print('Number of data points are : {}'.format(data.shape[0]))"
   ]
  },
  {
   "cell_type": "markdown",
   "metadata": {},
   "source": [
    "1. qid1 is ID for question 1\n",
    "2. qid2 is ID for question 2\n",
    "3. question1 and question2 columns are actual text\n",
    "4. is_duplicatle is the label, whether the questions are duplicate or not (0 = not duplicate, 1 = duplicate)"
   ]
  },
  {
   "cell_type": "markdown",
   "metadata": {},
   "source": [
    "## Exploratory Data Analysis"
   ]
  },
  {
   "cell_type": "markdown",
   "metadata": {},
   "source": [
    "### General"
   ]
  },
  {
   "cell_type": "code",
   "execution_count": 29,
   "metadata": {
    "ExecuteTime": {
     "end_time": "2019-10-11T13:13:47.866156Z",
     "start_time": "2019-10-11T13:13:47.704976Z"
    }
   },
   "outputs": [
    {
     "data": {
      "text/plain": [
       "<matplotlib.axes._subplots.AxesSubplot at 0x7fad10e6dc50>"
      ]
     },
     "execution_count": 29,
     "metadata": {},
     "output_type": "execute_result"
    },
    {
     "data": {
      "image/png": "[encoded data removed]",
      "text/plain": [
       "<Figure size 432x288 with 1 Axes>"
      ]
     },
     "metadata": {
      "needs_background": "light"
     },
     "output_type": "display_data"
    }
   ],
   "source": [
    "pd.value_counts(data['is_duplicate']).plot.bar()"
   ]
  },
  {
   "cell_type": "code",
   "execution_count": 30,
   "metadata": {
    "ExecuteTime": {
     "end_time": "2019-10-11T13:13:47.888043Z",
     "start_time": "2019-10-11T13:13:47.869356Z"
    }
   },
   "outputs": [
    {
     "data": {
      "text/plain": [
       "0    0.630802\n",
       "1    0.369198\n",
       "Name: is_duplicate, dtype: float64"
      ]
     },
     "execution_count": 30,
     "metadata": {},
     "output_type": "execute_result"
    }
   ],
   "source": [
    "data['is_duplicate'].value_counts(normalize=True)"
   ]
  },
  {
   "cell_type": "code",
   "execution_count": 31,
   "metadata": {
    "ExecuteTime": {
     "end_time": "2019-10-11T13:13:47.908831Z",
     "start_time": "2019-10-11T13:13:47.891136Z"
    }
   },
   "outputs": [
    {
     "data": {
      "text/plain": [
       "0    255027\n",
       "1    149263\n",
       "Name: is_duplicate, dtype: int64"
      ]
     },
     "execution_count": 31,
     "metadata": {},
     "output_type": "execute_result"
    }
   ],
   "source": [
    "data['is_duplicate'].value_counts()"
   ]
  },
  {
   "cell_type": "markdown",
   "metadata": {},
   "source": [
    "Out of 404290 question pairs, 255027 Qpairs(\\~63%) are not duplicate and 149263 Qpairs(~37%) are duplicate. <b> Slight imbalance in data </b>"
   ]
  },
  {
   "cell_type": "code",
   "execution_count": 32,
   "metadata": {
    "ExecuteTime": {
     "end_time": "2019-10-11T13:13:48.260584Z",
     "start_time": "2019-10-11T13:13:47.912014Z"
    }
   },
   "outputs": [
    {
     "name": "stdout",
     "output_type": "stream",
     "text": [
      "Number of unique questions: 537933\n"
     ]
    }
   ],
   "source": [
    "allQIDs = pd.Series(data['qid1'].tolist() + data['qid2'].tolist())\n",
    "num_unique_ques = len(np.unique(allQIDs))\n",
    "print('Number of unique questions: {}'.format(num_unique_ques))"
   ]
  },
  {
   "cell_type": "code",
   "execution_count": 33,
   "metadata": {
    "ExecuteTime": {
     "end_time": "2019-10-11T13:13:48.388519Z",
     "start_time": "2019-10-11T13:13:48.263174Z"
    }
   },
   "outputs": [],
   "source": [
    "num_ques_repeat = np.sum(allQIDs.value_counts() > 1)\n",
    "num_ques_once = np.sum(allQIDs.value_counts() == 1)"
   ]
  },
  {
   "cell_type": "code",
   "execution_count": 34,
   "metadata": {
    "ExecuteTime": {
     "end_time": "2019-10-11T13:13:48.609232Z",
     "start_time": "2019-10-11T13:13:48.390976Z"
    }
   },
   "outputs": [
    {
     "data": {
      "image/png": "[encoded data removed]",
      "text/plain": [
       "<Figure size 720x432 with 1 Axes>"
      ]
     },
     "metadata": {
      "needs_background": "light"
     },
     "output_type": "display_data"
    }
   ],
   "source": [
    "x = [\"Number of questions appearing once\" , \"Number of questions appearing more than once\"]\n",
    "y =  [num_ques_once , num_ques_repeat]\n",
    "\n",
    "plt.figure(figsize=(10, 6))\n",
    "plt.title (\"Plot representing frequency of questions\")\n",
    "sns.barplot(x,y)\n",
    "plt.show()"
   ]
  },
  {
   "cell_type": "code",
   "execution_count": 35,
   "metadata": {
    "ExecuteTime": {
     "end_time": "2019-10-11T13:13:48.616706Z",
     "start_time": "2019-10-11T13:13:48.612060Z"
    }
   },
   "outputs": [
    {
     "name": "stdout",
     "output_type": "stream",
     "text": [
      "Number of questions appearing once: 426153\n",
      "Number of questions appearing more than once: 111780\n"
     ]
    }
   ],
   "source": [
    "print('Number of questions appearing once: {}'.format(num_ques_once))\n",
    "print('Number of questions appearing more than once: {}'.format(num_ques_repeat))"
   ]
  },
  {
   "cell_type": "markdown",
   "metadata": {},
   "source": [
    "1. We have a total of 537933 different question IDs\n",
    "2. Out of this, 426153 QIDs only appear once.\n",
    "3. Remaining 111780 QIDs appear more than once."
   ]
  },
  {
   "cell_type": "code",
   "execution_count": 36,
   "metadata": {
    "ExecuteTime": {
     "end_time": "2019-10-11T13:13:49.867120Z",
     "start_time": "2019-10-11T13:13:48.619145Z"
    }
   },
   "outputs": [
    {
     "data": {
      "image/png": "[encoded data removed]",
      "text/plain": [
       "<Figure size 1440x720 with 1 Axes>"
      ]
     },
     "metadata": {
      "needs_background": "light"
     },
     "output_type": "display_data"
    }
   ],
   "source": [
    "plt.figure(figsize=(20, 10))\n",
    "plt.hist(allQIDs.value_counts(), bins=160)\n",
    "plt.yscale('log', nonposy='clip')\n",
    "plt.title('Log-Histogram of question appearance counts')\n",
    "plt.xlabel('Number of occurences of question')\n",
    "plt.ylabel('Number of questions')\n",
    "plt.show()"
   ]
  },
  {
   "cell_type": "code",
   "execution_count": 37,
   "metadata": {
    "ExecuteTime": {
     "end_time": "2019-10-11T13:13:50.044347Z",
     "start_time": "2019-10-11T13:13:49.869537Z"
    }
   },
   "outputs": [
    {
     "name": "stdout",
     "output_type": "stream",
     "text": [
      "Maximum number of times a single question is repeated: 157\n",
      "QID appearing most number of times: 2559\n"
     ]
    }
   ],
   "source": [
    "print('Maximum number of times a single question is repeated: {}'.format(max(allQIDs.value_counts()))) \n",
    "print('QID appearing most number of times: {}'.format(allQIDs.value_counts().idxmax()))"
   ]
  },
  {
   "cell_type": "markdown",
   "metadata": {},
   "source": [
    "1. Above histogram also shows us that most questions appear only once\n",
    "2. One question appear 157 times with QID 2559"
   ]
  },
  {
   "cell_type": "code",
   "execution_count": 38,
   "metadata": {
    "ExecuteTime": {
     "end_time": "2019-10-11T13:13:50.055579Z",
     "start_time": "2019-10-11T13:13:50.046766Z"
    }
   },
   "outputs": [
    {
     "data": {
      "text/plain": [
       "14712    What are the best ways to lose weight?\n",
       "Name: question1, dtype: object"
      ]
     },
     "execution_count": 38,
     "metadata": {},
     "output_type": "execute_result"
    }
   ],
   "source": [
    "data[data['qid1'] == 2559]['question1'].iloc[:1]"
   ]
  },
  {
   "cell_type": "markdown",
   "metadata": {},
   "source": [
    "The question that appears most in data is <b> What are the best ways to lose weight?</b>"
   ]
  },
  {
   "cell_type": "markdown",
   "metadata": {},
   "source": [
    "### Missing Values / NULL Values Check"
   ]
  },
  {
   "cell_type": "code",
   "execution_count": 39,
   "metadata": {
    "ExecuteTime": {
     "end_time": "2019-10-11T13:13:50.158254Z",
     "start_time": "2019-10-11T13:13:50.057728Z"
    }
   },
   "outputs": [
    {
     "name": "stdout",
     "output_type": "stream",
     "text": [
      "<class 'pandas.core.frame.DataFrame'>\n",
      "RangeIndex: 404290 entries, 0 to 404289\n",
      "Data columns (total 6 columns):\n",
      "id              404290 non-null int64\n",
      "qid1            404290 non-null int64\n",
      "qid2            404290 non-null int64\n",
      "question1       404289 non-null object\n",
      "question2       404288 non-null object\n",
      "is_duplicate    404290 non-null int64\n",
      "dtypes: int64(4), object(2)\n",
      "memory usage: 18.5+ MB\n"
     ]
    }
   ],
   "source": [
    "data.info()"
   ]
  },
  {
   "cell_type": "markdown",
   "metadata": {},
   "source": [
    "<b>We have some missing values.</b> <br>\n",
    "question1 has NULL for one row and question2 for two rows."
   ]
  },
  {
   "cell_type": "code",
   "execution_count": 40,
   "metadata": {
    "ExecuteTime": {
     "end_time": "2019-10-11T13:13:50.255459Z",
     "start_time": "2019-10-11T13:13:50.160534Z"
    }
   },
   "outputs": [
    {
     "name": "stdout",
     "output_type": "stream",
     "text": [
      "            id    qid1    qid2                         question1  \\\n",
      "105780  105780  174363  174364    How can I develop android app?   \n",
      "201841  201841  303951  174364  How can I create an Android app?   \n",
      "363362  363362  493340  493341                               NaN   \n",
      "\n",
      "                                                question2  is_duplicate  \n",
      "105780                                                NaN             0  \n",
      "201841                                                NaN             0  \n",
      "363362  My Chinese name is Haichao Yu. What English na...             0  \n"
     ]
    }
   ],
   "source": [
    "nan_rows = data[data.isnull().any(1)]\n",
    "print (nan_rows)"
   ]
  },
  {
   "cell_type": "markdown",
   "metadata": {
    "ExecuteTime": {
     "end_time": "2019-10-11T07:06:44.498739Z",
     "start_time": "2019-10-11T07:06:44.490479Z"
    }
   },
   "source": [
    "NaN values appear for QIDs 174364 and 493340. Let's find if we have question for these IDs in our data."
   ]
  },
  {
   "cell_type": "code",
   "execution_count": 41,
   "metadata": {
    "ExecuteTime": {
     "end_time": "2019-10-11T13:13:50.272013Z",
     "start_time": "2019-10-11T13:13:50.257758Z"
    }
   },
   "outputs": [
    {
     "name": "stdout",
     "output_type": "stream",
     "text": [
      "Series([], Name: question1, dtype: object)\n",
      "105780    NaN\n",
      "201841    NaN\n",
      "Name: question2, dtype: object\n",
      "363362    NaN\n",
      "Name: question1, dtype: object\n",
      "Series([], Name: question2, dtype: object)\n"
     ]
    }
   ],
   "source": [
    "print(data[data['qid1'] == 174364]['question1'])\n",
    "print(data[data['qid2'] == 174364]['question2'])\n",
    "\n",
    "print(data[data['qid1'] == 493340]['question1'])\n",
    "print(data[data['qid2'] == 493340]['question2'])"
   ]
  },
  {
   "cell_type": "markdown",
   "metadata": {},
   "source": [
    "As we cannot find any questions for these IDs, it's better to drop these rows."
   ]
  },
  {
   "cell_type": "code",
   "execution_count": 42,
   "metadata": {
    "ExecuteTime": {
     "end_time": "2019-10-11T13:13:50.499163Z",
     "start_time": "2019-10-11T13:13:50.274168Z"
    }
   },
   "outputs": [
    {
     "name": "stdout",
     "output_type": "stream",
     "text": [
      "<class 'pandas.core.frame.DataFrame'>\n",
      "Int64Index: 404287 entries, 0 to 404289\n",
      "Data columns (total 6 columns):\n",
      "id              404287 non-null int64\n",
      "qid1            404287 non-null int64\n",
      "qid2            404287 non-null int64\n",
      "question1       404287 non-null object\n",
      "question2       404287 non-null object\n",
      "is_duplicate    404287 non-null int64\n",
      "dtypes: int64(4), object(2)\n",
      "memory usage: 21.6+ MB\n"
     ]
    }
   ],
   "source": [
    "data.dropna(inplace=True)\n",
    "data.info()"
   ]
  },
  {
   "cell_type": "markdown",
   "metadata": {},
   "source": [
    "<b>We've dropped the rows with NaN values and now our data is free of NULL values</b>"
   ]
  },
  {
   "cell_type": "markdown",
   "metadata": {},
   "source": [
    "### Checking for Duplicates"
   ]
  },
  {
   "cell_type": "code",
   "execution_count": 43,
   "metadata": {
    "ExecuteTime": {
     "end_time": "2019-10-11T13:13:50.508793Z",
     "start_time": "2019-10-11T13:13:50.502034Z"
    }
   },
   "outputs": [
    {
     "data": {
      "text/plain": [
       "(array([], dtype=int64),)"
      ]
     },
     "execution_count": 43,
     "metadata": {},
     "output_type": "execute_result"
    }
   ],
   "source": [
    "np.where(data['qid1'] == data['qid2'])"
   ]
  },
  {
   "cell_type": "markdown",
   "metadata": {},
   "source": [
    "Good! We don't have any row where qid1 and qid2 are same"
   ]
  },
  {
   "cell_type": "code",
   "execution_count": 44,
   "metadata": {
    "ExecuteTime": {
     "end_time": "2019-10-11T13:13:50.736074Z",
     "start_time": "2019-10-11T13:13:50.511736Z"
    }
   },
   "outputs": [
    {
     "name": "stdout",
     "output_type": "stream",
     "text": [
      "<class 'pandas.core.frame.DataFrame'>\n",
      "Int64Index: 404287 entries, 0 to 404289\n",
      "Data columns (total 6 columns):\n",
      "id              404287 non-null int64\n",
      "qid1            404287 non-null int64\n",
      "qid2            404287 non-null int64\n",
      "question1       404287 non-null object\n",
      "question2       404287 non-null object\n",
      "is_duplicate    404287 non-null int64\n",
      "dtypes: int64(4), object(2)\n",
      "memory usage: 21.6+ MB\n"
     ]
    }
   ],
   "source": [
    "data.drop_duplicates(subset={\"qid1\",\"qid2\"}, keep='first', inplace=True)\n",
    "data.info()"
   ]
  },
  {
   "cell_type": "markdown",
   "metadata": {},
   "source": [
    "<b> No duplicates found where two rows have same &lt;qid1, qid2&gt; pair </b>"
   ]
  },
  {
   "cell_type": "markdown",
   "metadata": {},
   "source": [
    "## Feature Engineering"
   ]
  },
  {
   "cell_type": "markdown",
   "metadata": {},
   "source": [
    "### Basic"
   ]
  },
  {
   "cell_type": "markdown",
   "metadata": {},
   "source": [
    "- freq_qid1: Frequency of QId1. If qid1 = 3, freq_qid1 = how many types 3 occur as qid1\n",
    "- freq_qid2: Frequency of QId2. If qid2 = 3, freq_qid2 = how many types 3 occur as qid2\n",
    "- q1len: Length of question1\n",
    "- q2len: Length of question2\n",
    "- q1_words: Number of words in question1\n",
    "- q2_words: Number of words in question2\n",
    "- words_common: Number of unique common words in question1 and question2\n",
    "- words_total: Total unique words in question1 and question2\n",
    "- words_share: words_commmon / words_total\n",
    "- freq_q1+q2: freq_qid1 + freq_qid2\n",
    "- freq_q1-q2: |freq_qid1 - freq_qid2|"
   ]
  },
  {
   "cell_type": "code",
   "execution_count": 45,
   "metadata": {
    "ExecuteTime": {
     "end_time": "2019-10-11T13:14:37.634234Z",
     "start_time": "2019-10-11T13:13:50.738975Z"
    },
    "code_folding": [
     7,
     13,
     19
    ]
   },
   "outputs": [
    {
     "data": {
      "text/html": [
       "<div>\n",
       "<style scoped>\n",
       "    .dataframe tbody tr th:only-of-type {\n",
       "        vertical-align: middle;\n",
       "    }\n",
       "\n",
       "    .dataframe tbody tr th {\n",
       "        vertical-align: top;\n",
       "    }\n",
       "\n",
       "    .dataframe thead th {\n",
       "        text-align: right;\n",
       "    }\n",
       "</style>\n",
       "<table border=\"1\" class=\"dataframe\">\n",
       "  <thead>\n",
       "    <tr style=\"text-align: right;\">\n",
       "      <th></th>\n",
       "      <th>id</th>\n",
       "      <th>qid1</th>\n",
       "      <th>qid2</th>\n",
       "      <th>question1</th>\n",
       "      <th>question2</th>\n",
       "      <th>is_duplicate</th>\n",
       "      <th>freq_qid1</th>\n",
       "      <th>freq_qid2</th>\n",
       "      <th>q1len</th>\n",
       "      <th>q2len</th>\n",
       "      <th>q1_words</th>\n",
       "      <th>q2_words</th>\n",
       "      <th>words_common</th>\n",
       "      <th>words_total</th>\n",
       "      <th>words_share</th>\n",
       "      <th>freq_q1+q2</th>\n",
       "      <th>freq_q1-q2</th>\n",
       "    </tr>\n",
       "  </thead>\n",
       "  <tbody>\n",
       "    <tr>\n",
       "      <th>0</th>\n",
       "      <td>0</td>\n",
       "      <td>1</td>\n",
       "      <td>2</td>\n",
       "      <td>What is the step by step guide to invest in sh...</td>\n",
       "      <td>What is the step by step guide to invest in sh...</td>\n",
       "      <td>0</td>\n",
       "      <td>1</td>\n",
       "      <td>1</td>\n",
       "      <td>66</td>\n",
       "      <td>57</td>\n",
       "      <td>14</td>\n",
       "      <td>12</td>\n",
       "      <td>10.0</td>\n",
       "      <td>13.0</td>\n",
       "      <td>0.769231</td>\n",
       "      <td>2</td>\n",
       "      <td>0</td>\n",
       "    </tr>\n",
       "    <tr>\n",
       "      <th>1</th>\n",
       "      <td>1</td>\n",
       "      <td>3</td>\n",
       "      <td>4</td>\n",
       "      <td>What is the story of Kohinoor (Koh-i-Noor) Dia...</td>\n",
       "      <td>What would happen if the Indian government sto...</td>\n",
       "      <td>0</td>\n",
       "      <td>4</td>\n",
       "      <td>1</td>\n",
       "      <td>51</td>\n",
       "      <td>88</td>\n",
       "      <td>8</td>\n",
       "      <td>13</td>\n",
       "      <td>4.0</td>\n",
       "      <td>16.0</td>\n",
       "      <td>0.250000</td>\n",
       "      <td>5</td>\n",
       "      <td>3</td>\n",
       "    </tr>\n",
       "    <tr>\n",
       "      <th>2</th>\n",
       "      <td>2</td>\n",
       "      <td>5</td>\n",
       "      <td>6</td>\n",
       "      <td>How can I increase the speed of my internet co...</td>\n",
       "      <td>How can Internet speed be increased by hacking...</td>\n",
       "      <td>0</td>\n",
       "      <td>1</td>\n",
       "      <td>1</td>\n",
       "      <td>73</td>\n",
       "      <td>59</td>\n",
       "      <td>14</td>\n",
       "      <td>10</td>\n",
       "      <td>4.0</td>\n",
       "      <td>20.0</td>\n",
       "      <td>0.200000</td>\n",
       "      <td>2</td>\n",
       "      <td>0</td>\n",
       "    </tr>\n",
       "    <tr>\n",
       "      <th>3</th>\n",
       "      <td>3</td>\n",
       "      <td>7</td>\n",
       "      <td>8</td>\n",
       "      <td>Why am I mentally very lonely? How can I solve...</td>\n",
       "      <td>Find the remainder when [math]23^{24}[/math] i...</td>\n",
       "      <td>0</td>\n",
       "      <td>1</td>\n",
       "      <td>1</td>\n",
       "      <td>50</td>\n",
       "      <td>65</td>\n",
       "      <td>11</td>\n",
       "      <td>9</td>\n",
       "      <td>0.0</td>\n",
       "      <td>19.0</td>\n",
       "      <td>0.000000</td>\n",
       "      <td>2</td>\n",
       "      <td>0</td>\n",
       "    </tr>\n",
       "    <tr>\n",
       "      <th>4</th>\n",
       "      <td>4</td>\n",
       "      <td>9</td>\n",
       "      <td>10</td>\n",
       "      <td>Which one dissolve in water quikly sugar, salt...</td>\n",
       "      <td>Which fish would survive in salt water?</td>\n",
       "      <td>0</td>\n",
       "      <td>3</td>\n",
       "      <td>1</td>\n",
       "      <td>76</td>\n",
       "      <td>39</td>\n",
       "      <td>13</td>\n",
       "      <td>7</td>\n",
       "      <td>2.0</td>\n",
       "      <td>18.0</td>\n",
       "      <td>0.111111</td>\n",
       "      <td>4</td>\n",
       "      <td>2</td>\n",
       "    </tr>\n",
       "  </tbody>\n",
       "</table>\n",
       "</div>"
      ],
      "text/plain": [
       "   id  qid1  qid2                                          question1  \\\n",
       "0   0     1     2  What is the step by step guide to invest in sh...   \n",
       "1   1     3     4  What is the story of Kohinoor (Koh-i-Noor) Dia...   \n",
       "2   2     5     6  How can I increase the speed of my internet co...   \n",
       "3   3     7     8  Why am I mentally very lonely? How can I solve...   \n",
       "4   4     9    10  Which one dissolve in water quikly sugar, salt...   \n",
       "\n",
       "                                           question2  is_duplicate  freq_qid1  \\\n",
       "0  What is the step by step guide to invest in sh...             0          1   \n",
       "1  What would happen if the Indian government sto...             0          4   \n",
       "2  How can Internet speed be increased by hacking...             0          1   \n",
       "3  Find the remainder when [math]23^{24}[/math] i...             0          1   \n",
       "4            Which fish would survive in salt water?             0          3   \n",
       "\n",
       "   freq_qid2  q1len  q2len  q1_words  q2_words  words_common  words_total  \\\n",
       "0          1     66     57        14        12          10.0         13.0   \n",
       "1          1     51     88         8        13           4.0         16.0   \n",
       "2          1     73     59        14        10           4.0         20.0   \n",
       "3          1     50     65        11         9           0.0         19.0   \n",
       "4          1     76     39        13         7           2.0         18.0   \n",
       "\n",
       "   words_share  freq_q1+q2  freq_q1-q2  \n",
       "0     0.769231           2           0  \n",
       "1     0.250000           5           3  \n",
       "2     0.200000           2           0  \n",
       "3     0.000000           2           0  \n",
       "4     0.111111           4           2  "
      ]
     },
     "execution_count": 45,
     "metadata": {},
     "output_type": "execute_result"
    }
   ],
   "source": [
    "data['freq_qid1'] = data.groupby('qid1')['qid1'].transform('count')\n",
    "data['freq_qid2'] = data.groupby('qid2')['qid2'].transform('count')\n",
    "data['q1len'] = data['question1'].str.len() \n",
    "data['q2len'] = data['question2'].str.len()\n",
    "data['q1_words'] = data['question1'].apply(lambda row: len(row.split(' ')))\n",
    "data['q2_words'] = data['question2'].apply(lambda row: len(row.split(' ')))\n",
    "\n",
    "def words_common(row):\n",
    "    w1 = set(map(lambda word: word.lower().strip(), row['question1'].split(' ')))\n",
    "    w2 = set(map(lambda word: word.lower().strip(), row['question2'].split(' ')))    \n",
    "    return 1.0 * len(w1 & w2)\n",
    "data['words_common'] = data.apply(words_common, axis=1)\n",
    "\n",
    "def words_total(row):\n",
    "    w1 = set(map(lambda word: word.lower().strip(), row['question1'].split(' ')))\n",
    "    w2 = set(map(lambda word: word.lower().strip(), row['question2'].split(' ')))    \n",
    "    return 1.0 * len(w1 | w2)\n",
    "data['words_total'] = data.apply(words_total, axis=1)\n",
    "\n",
    "def words_share(row):\n",
    "    w1 = set(map(lambda word: word.lower().strip(), row['question1'].split(' ')))\n",
    "    w2 = set(map(lambda word: word.lower().strip(), row['question2'].split(' ')))    \n",
    "    return 1.0 * len(w1 & w2) / len(w1 | w2)\n",
    "data['words_share'] = data.apply(words_share, axis=1)\n",
    "\n",
    "data['freq_q1+q2'] = data['freq_qid1'] + data['freq_qid2']\n",
    "data['freq_q1-q2'] = abs(data['freq_qid1'] - data['freq_qid2'])\n",
    "\n",
    "data.head()"
   ]
  },
  {
   "cell_type": "code",
   "execution_count": 46,
   "metadata": {
    "ExecuteTime": {
     "end_time": "2019-10-11T13:14:38.038952Z",
     "start_time": "2019-10-11T13:14:37.636535Z"
    }
   },
   "outputs": [
    {
     "data": {
      "text/html": [
       "<div>\n",
       "<style scoped>\n",
       "    .dataframe tbody tr th:only-of-type {\n",
       "        vertical-align: middle;\n",
       "    }\n",
       "\n",
       "    .dataframe tbody tr th {\n",
       "        vertical-align: top;\n",
       "    }\n",
       "\n",
       "    .dataframe thead th {\n",
       "        text-align: right;\n",
       "    }\n",
       "</style>\n",
       "<table border=\"1\" class=\"dataframe\">\n",
       "  <thead>\n",
       "    <tr style=\"text-align: right;\">\n",
       "      <th></th>\n",
       "      <th>id</th>\n",
       "      <th>qid1</th>\n",
       "      <th>qid2</th>\n",
       "      <th>is_duplicate</th>\n",
       "      <th>freq_qid1</th>\n",
       "      <th>freq_qid2</th>\n",
       "      <th>q1len</th>\n",
       "      <th>q2len</th>\n",
       "      <th>q1_words</th>\n",
       "      <th>q2_words</th>\n",
       "      <th>words_common</th>\n",
       "      <th>words_total</th>\n",
       "      <th>words_share</th>\n",
       "      <th>freq_q1+q2</th>\n",
       "      <th>freq_q1-q2</th>\n",
       "    </tr>\n",
       "  </thead>\n",
       "  <tbody>\n",
       "    <tr>\n",
       "      <th>count</th>\n",
       "      <td>404287.000000</td>\n",
       "      <td>404287.000000</td>\n",
       "      <td>404287.000000</td>\n",
       "      <td>404287.000000</td>\n",
       "      <td>404287.000000</td>\n",
       "      <td>404287.000000</td>\n",
       "      <td>404287.000000</td>\n",
       "      <td>404287.000000</td>\n",
       "      <td>404287.000000</td>\n",
       "      <td>404287.000000</td>\n",
       "      <td>404287.000000</td>\n",
       "      <td>404287.000000</td>\n",
       "      <td>404287.000000</td>\n",
       "      <td>404287.000000</td>\n",
       "      <td>404287.000000</td>\n",
       "    </tr>\n",
       "    <tr>\n",
       "      <th>mean</th>\n",
       "      <td>202144.340337</td>\n",
       "      <td>217243.151093</td>\n",
       "      <td>220955.212082</td>\n",
       "      <td>0.369201</td>\n",
       "      <td>2.827618</td>\n",
       "      <td>3.046972</td>\n",
       "      <td>59.536997</td>\n",
       "      <td>60.108507</td>\n",
       "      <td>10.944638</td>\n",
       "      <td>11.185146</td>\n",
       "      <td>4.511644</td>\n",
       "      <td>16.614544</td>\n",
       "      <td>0.325854</td>\n",
       "      <td>5.874589</td>\n",
       "      <td>1.845728</td>\n",
       "    </tr>\n",
       "    <tr>\n",
       "      <th>std</th>\n",
       "      <td>116708.673691</td>\n",
       "      <td>157751.614317</td>\n",
       "      <td>159903.168488</td>\n",
       "      <td>0.482589</td>\n",
       "      <td>4.487434</td>\n",
       "      <td>6.026892</td>\n",
       "      <td>29.940553</td>\n",
       "      <td>33.863588</td>\n",
       "      <td>5.431937</td>\n",
       "      <td>6.311040</td>\n",
       "      <td>3.098643</td>\n",
       "      <td>7.945330</td>\n",
       "      <td>0.235319</td>\n",
       "      <td>9.091099</td>\n",
       "      <td>5.187899</td>\n",
       "    </tr>\n",
       "    <tr>\n",
       "      <th>min</th>\n",
       "      <td>0.000000</td>\n",
       "      <td>1.000000</td>\n",
       "      <td>2.000000</td>\n",
       "      <td>0.000000</td>\n",
       "      <td>1.000000</td>\n",
       "      <td>1.000000</td>\n",
       "      <td>1.000000</td>\n",
       "      <td>1.000000</td>\n",
       "      <td>1.000000</td>\n",
       "      <td>1.000000</td>\n",
       "      <td>0.000000</td>\n",
       "      <td>2.000000</td>\n",
       "      <td>0.000000</td>\n",
       "      <td>2.000000</td>\n",
       "      <td>0.000000</td>\n",
       "    </tr>\n",
       "    <tr>\n",
       "      <th>25%</th>\n",
       "      <td>101071.500000</td>\n",
       "      <td>74436.500000</td>\n",
       "      <td>74726.500000</td>\n",
       "      <td>0.000000</td>\n",
       "      <td>1.000000</td>\n",
       "      <td>1.000000</td>\n",
       "      <td>39.000000</td>\n",
       "      <td>39.000000</td>\n",
       "      <td>7.000000</td>\n",
       "      <td>7.000000</td>\n",
       "      <td>2.000000</td>\n",
       "      <td>11.000000</td>\n",
       "      <td>0.142857</td>\n",
       "      <td>2.000000</td>\n",
       "      <td>0.000000</td>\n",
       "    </tr>\n",
       "    <tr>\n",
       "      <th>50%</th>\n",
       "      <td>202145.000000</td>\n",
       "      <td>192181.000000</td>\n",
       "      <td>197053.000000</td>\n",
       "      <td>0.000000</td>\n",
       "      <td>1.000000</td>\n",
       "      <td>1.000000</td>\n",
       "      <td>52.000000</td>\n",
       "      <td>51.000000</td>\n",
       "      <td>10.000000</td>\n",
       "      <td>10.000000</td>\n",
       "      <td>4.000000</td>\n",
       "      <td>15.000000</td>\n",
       "      <td>0.277778</td>\n",
       "      <td>3.000000</td>\n",
       "      <td>0.000000</td>\n",
       "    </tr>\n",
       "    <tr>\n",
       "      <th>75%</th>\n",
       "      <td>303216.500000</td>\n",
       "      <td>346573.000000</td>\n",
       "      <td>354692.000000</td>\n",
       "      <td>1.000000</td>\n",
       "      <td>3.000000</td>\n",
       "      <td>2.000000</td>\n",
       "      <td>72.000000</td>\n",
       "      <td>72.000000</td>\n",
       "      <td>13.000000</td>\n",
       "      <td>13.000000</td>\n",
       "      <td>6.000000</td>\n",
       "      <td>20.000000</td>\n",
       "      <td>0.466667</td>\n",
       "      <td>5.000000</td>\n",
       "      <td>2.000000</td>\n",
       "    </tr>\n",
       "    <tr>\n",
       "      <th>max</th>\n",
       "      <td>404289.000000</td>\n",
       "      <td>537932.000000</td>\n",
       "      <td>537933.000000</td>\n",
       "      <td>1.000000</td>\n",
       "      <td>50.000000</td>\n",
       "      <td>120.000000</td>\n",
       "      <td>623.000000</td>\n",
       "      <td>1169.000000</td>\n",
       "      <td>125.000000</td>\n",
       "      <td>237.000000</td>\n",
       "      <td>41.000000</td>\n",
       "      <td>154.000000</td>\n",
       "      <td>1.000000</td>\n",
       "      <td>157.000000</td>\n",
       "      <td>119.000000</td>\n",
       "    </tr>\n",
       "  </tbody>\n",
       "</table>\n",
       "</div>"
      ],
      "text/plain": [
       "                  id           qid1           qid2   is_duplicate  \\\n",
       "count  404287.000000  404287.000000  404287.000000  404287.000000   \n",
       "mean   202144.340337  217243.151093  220955.212082       0.369201   \n",
       "std    116708.673691  157751.614317  159903.168488       0.482589   \n",
       "min         0.000000       1.000000       2.000000       0.000000   \n",
       "25%    101071.500000   74436.500000   74726.500000       0.000000   \n",
       "50%    202145.000000  192181.000000  197053.000000       0.000000   \n",
       "75%    303216.500000  346573.000000  354692.000000       1.000000   \n",
       "max    404289.000000  537932.000000  537933.000000       1.000000   \n",
       "\n",
       "           freq_qid1      freq_qid2          q1len          q2len  \\\n",
       "count  404287.000000  404287.000000  404287.000000  404287.000000   \n",
       "mean        2.827618       3.046972      59.536997      60.108507   \n",
       "std         4.487434       6.026892      29.940553      33.863588   \n",
       "min         1.000000       1.000000       1.000000       1.000000   \n",
       "25%         1.000000       1.000000      39.000000      39.000000   \n",
       "50%         1.000000       1.000000      52.000000      51.000000   \n",
       "75%         3.000000       2.000000      72.000000      72.000000   \n",
       "max        50.000000     120.000000     623.000000    1169.000000   \n",
       "\n",
       "            q1_words       q2_words   words_common    words_total  \\\n",
       "count  404287.000000  404287.000000  404287.000000  404287.000000   \n",
       "mean       10.944638      11.185146       4.511644      16.614544   \n",
       "std         5.431937       6.311040       3.098643       7.945330   \n",
       "min         1.000000       1.000000       0.000000       2.000000   \n",
       "25%         7.000000       7.000000       2.000000      11.000000   \n",
       "50%        10.000000      10.000000       4.000000      15.000000   \n",
       "75%        13.000000      13.000000       6.000000      20.000000   \n",
       "max       125.000000     237.000000      41.000000     154.000000   \n",
       "\n",
       "         words_share     freq_q1+q2     freq_q1-q2  \n",
       "count  404287.000000  404287.000000  404287.000000  \n",
       "mean        0.325854       5.874589       1.845728  \n",
       "std         0.235319       9.091099       5.187899  \n",
       "min         0.000000       2.000000       0.000000  \n",
       "25%         0.142857       2.000000       0.000000  \n",
       "50%         0.277778       3.000000       0.000000  \n",
       "75%         0.466667       5.000000       2.000000  \n",
       "max         1.000000     157.000000     119.000000  "
      ]
     },
     "execution_count": 46,
     "metadata": {},
     "output_type": "execute_result"
    }
   ],
   "source": [
    "data.describe()"
   ]
  },
  {
   "cell_type": "markdown",
   "metadata": {},
   "source": [
    "1. Mimnimum length of questions in [question1]: 1\n",
    "2. Mimnimum length of questions in [question2]: 1\n",
    "3. Length of question1 ranges from 1 to 623. Question1 are as small as single character. Avg. length of question1 is ~60.\n",
    "4. Length of question2 ranges from 1 to 1169. Question2 are as small as single character. Avg. length of question2 is ~60.\n",
    "5. Average words in questions are ~11"
   ]
  },
  {
   "cell_type": "code",
   "execution_count": 47,
   "metadata": {
    "ExecuteTime": {
     "end_time": "2019-10-11T13:14:38.124766Z",
     "start_time": "2019-10-11T13:14:38.041371Z"
    }
   },
   "outputs": [
    {
     "name": "stdout",
     "output_type": "stream",
     "text": [
      "Number of Questions with minimum length [question1]: 19\n",
      "Number of Questions with minimum length [question2]: 2\n"
     ]
    }
   ],
   "source": [
    "print('Number of Questions with minimum length [question1]: {}'.format(data[data['q1len'] == min(data['q1len'])].shape[0]))\n",
    "print('Number of Questions with minimum length [question2]: {}'.format(data[data['q2len'] == min(data['q2len'])].shape[0]))"
   ]
  },
  {
   "cell_type": "markdown",
   "metadata": {},
   "source": [
    "<b> Analysis words_share </b>"
   ]
  },
  {
   "cell_type": "code",
   "execution_count": 48,
   "metadata": {
    "ExecuteTime": {
     "end_time": "2019-10-11T13:14:41.687162Z",
     "start_time": "2019-10-11T13:14:38.127377Z"
    }
   },
   "outputs": [
    {
     "data": {
      "image/png": "[encoded data removed]",
      "text/plain": [
       "<Figure size 864x576 with 2 Axes>"
      ]
     },
     "metadata": {
      "needs_background": "light"
     },
     "output_type": "display_data"
    }
   ],
   "source": [
    "plt.figure(figsize=(12, 8))\n",
    "\n",
    "plt.subplot(1,2,1)\n",
    "sns.violinplot(x = 'is_duplicate', y = 'words_share', data = data)\n",
    "\n",
    "plt.subplot(1,2,2)\n",
    "sns.distplot(data[data['is_duplicate'] == 1.0]['words_share'], label = \"1\", color = 'red')\n",
    "sns.distplot(data[data['is_duplicate'] == 0.0]['words_share'], label = \"0\" , color = 'blue')\n",
    "\n",
    "plt.show()"
   ]
  },
  {
   "cell_type": "markdown",
   "metadata": {},
   "source": [
    "- There is partial overlap for this column between two classes\n",
    "- <b> This feature can be useful </b>"
   ]
  },
  {
   "cell_type": "markdown",
   "metadata": {},
   "source": [
    "<b> Analysis words_common </b>"
   ]
  },
  {
   "cell_type": "code",
   "execution_count": 49,
   "metadata": {
    "ExecuteTime": {
     "end_time": "2019-10-11T13:14:44.834834Z",
     "start_time": "2019-10-11T13:14:41.690507Z"
    }
   },
   "outputs": [
    {
     "data": {
      "image/png": "[encoded data removed]",
      "text/plain": [
       "<Figure size 864x576 with 2 Axes>"
      ]
     },
     "metadata": {
      "needs_background": "light"
     },
     "output_type": "display_data"
    }
   ],
   "source": [
    "plt.figure(figsize=(12, 8))\n",
    "\n",
    "plt.subplot(1,2,1)\n",
    "sns.violinplot(x = 'is_duplicate', y = 'words_common', data = data)\n",
    "\n",
    "plt.subplot(1,2,2)\n",
    "sns.distplot(data[data['is_duplicate'] == 1.0]['words_common'], label = \"1\", color = 'red')\n",
    "sns.distplot(data[data['is_duplicate'] == 0.0]['words_common'], label = \"0\" , color = 'blue')\n",
    "\n",
    "plt.show()"
   ]
  },
  {
   "cell_type": "markdown",
   "metadata": {},
   "source": [
    "- This feature has heavy overlap for two classes.\n",
    "- <b> Does not seems to be useful </b>\n",
    "- Graph is mainly right tailed, most questions have commons words from range 0 - 20"
   ]
  },
  {
   "cell_type": "markdown",
   "metadata": {},
   "source": [
    "<b> Analysis words_total </b>"
   ]
  },
  {
   "cell_type": "code",
   "execution_count": 50,
   "metadata": {
    "ExecuteTime": {
     "end_time": "2019-10-11T13:14:47.901894Z",
     "start_time": "2019-10-11T13:14:44.837510Z"
    }
   },
   "outputs": [
    {
     "data": {
      "image/png": "[encoded data removed]",
      "text/plain": [
       "<Figure size 864x576 with 2 Axes>"
      ]
     },
     "metadata": {
      "needs_background": "light"
     },
     "output_type": "display_data"
    }
   ],
   "source": [
    "plt.figure(figsize=(12, 8))\n",
    "\n",
    "plt.subplot(1,2,1)\n",
    "sns.violinplot(x = 'is_duplicate', y = 'words_total', data = data)\n",
    "\n",
    "plt.subplot(1,2,2)\n",
    "sns.distplot(data[data['is_duplicate'] == 1.0]['words_total'], label = \"1\", color = 'red')\n",
    "sns.distplot(data[data['is_duplicate'] == 0.0]['words_total'], label = \"0\" , color = 'blue')\n",
    "\n",
    "plt.show()"
   ]
  },
  {
   "cell_type": "markdown",
   "metadata": {},
   "source": [
    "- This feature also seems to have heavy overlap.\n",
    "- <b> Does not seems to be useful </b>\n",
    "- This graph is also right skewed. Most sentences have total words in range 0 - 60."
   ]
  },
  {
   "cell_type": "code",
   "execution_count": null,
   "metadata": {},
   "outputs": [],
   "source": []
  }
 ],
 "metadata": {
  "hide_input": false,
  "kernelspec": {
   "display_name": "Python 3",
   "language": "python",
   "name": "python3"
  },
  "language_info": {
   "codemirror_mode": {
    "name": "ipython",
    "version": 3
   },
   "file_extension": ".py",
   "mimetype": "text/x-python",
   "name": "python",
   "nbconvert_exporter": "python",
   "pygments_lexer": "ipython3",
   "version": "3.5.2"
  },
  "toc": {
   "base_numbering": 1,
   "nav_menu": {},
   "number_sections": true,
   "sideBar": true,
   "skip_h1_title": false,
   "title_cell": "Table of Contents",
   "title_sidebar": "Contents",
   "toc_cell": false,
   "toc_position": {},
   "toc_section_display": true,
   "toc_window_display": false
  }
 },
 "nbformat": 4,
 "nbformat_minor": 2
}
